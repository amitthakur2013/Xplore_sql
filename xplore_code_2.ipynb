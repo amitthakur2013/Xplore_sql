{
  "nbformat": 4,
  "nbformat_minor": 0,
  "metadata": {
    "colab": {
      "name": "xplore_code_2.ipynb",
      "provenance": [],
      "collapsed_sections": [],
      "authorship_tag": "ABX9TyNANxuiS0rhRHSJjqyoO9w4",
      "include_colab_link": true
    },
    "kernelspec": {
      "name": "python3",
      "display_name": "Python 3"
    }
  },
  "cells": [
    {
      "cell_type": "markdown",
      "metadata": {
        "id": "view-in-github",
        "colab_type": "text"
      },
      "source": [
        "<a href=\"https://colab.research.google.com/github/amitthakur2013/Xplore_sql/blob/main/xplore_code_2.ipynb\" target=\"_parent\"><img src=\"https://colab.research.google.com/assets/colab-badge.svg\" alt=\"Open In Colab\"/></a>"
      ]
    },
    {
      "cell_type": "code",
      "metadata": {
        "id": "0Bl9GviqTD5T"
      },
      "source": [
        " class Employee:\r\n",
        "  def __init__(self,name,id,age,gender):\r\n",
        "    self.name=name\r\n",
        "    self.id=id\r\n",
        "    self.age=age\r\n",
        "    self.gender=gender\r\n",
        "\r\n",
        "class Organisation:\r\n",
        "\r\n",
        "  def __init__(self,name,emp_list):\r\n",
        "    self.name=name\r\n",
        "    self.emp_list=emp_list\r\n",
        "\r\n",
        "  def addEmployee(self,name,id,age,gender):\r\n",
        "    self.emp_list.append(Employee(name,id,age,gender))\r\n",
        "    return\r\n",
        "  \r\n",
        "  def getEmployeeCount(self):\r\n",
        "    return len(self.emp_list)\r\n",
        "\r\n",
        "  def findEmployeeAge(self,id):\r\n",
        "    for emp in self.emp_list:\r\n",
        "      if emp.id == id:\r\n",
        "        return emp.age\r\n",
        "    return -1\r\n",
        "  \r\n",
        "  def countEmployees(self,age):\r\n",
        "    cnt=0\r\n",
        "    for emp in self.emp_list:\r\n",
        "      if emp.age > age:\r\n",
        "        cnt+=1 \r\n",
        "    return cnt \r\n",
        "\r\n",
        "if __name__ == \"__main__\":\r\n",
        "  employees=[]\r\n",
        "  o=Organisation(\"XYZ\",employees)\r\n",
        "  n=int(input())\r\n",
        "  for i in range(n):\r\n",
        "    name=input()\r\n",
        "    id=int(input())\r\n",
        "    age=int(input())\r\n",
        "    gender=input()\r\n",
        "    o.addEmployee(name,id,age,gender)\r\n",
        "  \r\n",
        "  id=int(input())\r\n",
        "  age=int(input())\r\n",
        "  print(o.getEmployeeCount()) \r\n",
        "  print(o.findEmployeeAge(id))\r\n",
        "  print(o.countEmployees(age))\r\n",
        "\r\n",
        "\r\n",
        "\r\n",
        "\r\n",
        "\r\n"
      ],
      "execution_count": null,
      "outputs": []
    },
    {
      "cell_type": "code",
      "metadata": {
        "id": "V4U2lUm6pzwN"
      },
      "source": [
        "class Project:\r\n",
        "  def __init__(self,projectId,projectName,manHours,technologyList):\r\n",
        "    self.projectId=projectId\r\n",
        "    self.projectName=projectName\r\n",
        "    self.manHours=manHours\r\n",
        "    self.technologyList=technologyList\r\n",
        "    self.avgProjCost=0\r\n",
        "\r\n",
        "  def calculateProjCost(self,rate):\r\n",
        "    return self.manHours*rate \r\n",
        "\r\n",
        "class Organization:\r\n",
        "  def __init__(self,orgName,projList):\r\n",
        "    self.orgName=orgName\r\n",
        "    self.projList=projList\r\n",
        "    \r\n",
        "  def projAvgCostByTechnology(self,pid,rate):\r\n",
        "    for i in self.projList:\r\n",
        "      if i.projectId == pid:\r\n",
        "        i.avgProjCost = i.calculateProjCost/len(i.technologyList)\r\n",
        "        return i"
      ],
      "execution_count": null,
      "outputs": []
    },
    {
      "cell_type": "code",
      "metadata": {
        "colab": {
          "base_uri": "https://localhost:8080/"
        },
        "id": "I678oWvhc-5w",
        "outputId": "466cde05-fde3-4281-949c-840afe3001a7"
      },
      "source": [
        "n=int(input())\r\n",
        "sum=0\r\n",
        "while(n!=0):\r\n",
        "  sum+=(n%10)\r\n",
        "  n//=10\r\n",
        "if sum%3 == 0:\r\n",
        "  print(True)\r\n",
        "else:\r\n",
        "  print(False)"
      ],
      "execution_count": null,
      "outputs": [
        {
          "output_type": "stream",
          "text": [
            "37\n",
            "False\n"
          ],
          "name": "stdout"
        }
      ]
    },
    {
      "cell_type": "code",
      "metadata": {
        "colab": {
          "base_uri": "https://localhost:8080/"
        },
        "id": "VlQNh6WIdaEa",
        "outputId": "ecd2d161-e867-432a-816d-36e95c684391"
      },
      "source": [
        "# The question is to print the distinct and common subjects present in an array consisting of 9 subjects (3 sets of 3 subjects)\r\n",
        "# [\"abc\",\"cvd\",\"dec\"]\r\n",
        "# [\"abc\",\"cvd\",\"dec\"]\r\n",
        "# [\"abc\",\"cvd\",\"dec\"]\r\n",
        "subject=[]\r\n",
        "for i in range(3):\r\n",
        "  subject.extend(list(map(str,input().split())))\r\n",
        "d={}\r\n",
        "for i in subject:\r\n",
        "  if i not in d.keys():\r\n",
        "    d[i]=1\r\n",
        "  else:\r\n",
        "    d[i]+=1\r\n",
        "common=[]\r\n",
        "distinct=[]\r\n",
        "for i in d:\r\n",
        "  if d[i]==3:\r\n",
        "    common.append(i)\r\n",
        "  if d[i]==1:\r\n",
        "    distinct.append(i)\r\n",
        "common.sort()\r\n",
        "distinct.sort()\r\n",
        "print(common)\r\n",
        "print(distinct)"
      ],
      "execution_count": null,
      "outputs": [
        {
          "output_type": "stream",
          "text": [
            "b a c\n",
            "a b x\n",
            "a c d\n",
            "['a']\n",
            "['d', 'x']\n"
          ],
          "name": "stdout"
        }
      ]
    },
    {
      "cell_type": "code",
      "metadata": {
        "colab": {
          "base_uri": "https://localhost:8080/"
        },
        "id": "lXAm5A7zZEG1",
        "outputId": "ed960983-6be1-44ab-b0fe-8653a67bc7e3"
      },
      "source": [
        "# The question is to create a class called GoldInvoice with the below mentioned attributes and two methods- one to calculate the price of an item without including GST and one including GST.\r\n",
        "# The arguments of the method are a list of GoldInvoice objects and the itemid for which we need to calculate the total price.\r\n",
        "# The math for finding the total cost is as follows:\r\n",
        "# cost=quantity*rate*weight\r\n",
        "# To this cost, we must add the percentage of wastage(pwc) and also subtract the discount percentage(pdis). In case of including GST, we need to add an additional 3% to the cost.\r\n",
        "# The final cost that we display in the main function should be :\r\n",
        "# 1)with 3 decimal points in case of exGST\r\n",
        "# 2)with 2 decimal points in case of inGST\r\n",
        "# In the main function we shall get the input from the user and pass it into the list of goldinvoice objects and later call the two methods required for our operation.\r\n",
        "\r\n",
        "class GoldInvoice:\r\n",
        "  def __init__(self,id,name,qty,rate,pwc,pdis,weight):\r\n",
        "    self.id=id\r\n",
        "    self.name=name\r\n",
        "    self.qty=qty\r\n",
        "    self.rate=rate\r\n",
        "    self.pwc=pwc\r\n",
        "    self.pdis=pdis\r\n",
        "    self.weight=weight\r\n",
        "  def calc_Item_Price_exGST(self,items,id):\r\n",
        "    cost=0\r\n",
        "    for i in items:\r\n",
        "      if i.id == id:\r\n",
        "        actualcost=(i.qty*i.rate*i.weight)\r\n",
        "    cost=actualcost+((actualcost*i.pwc)/100)\r\n",
        "    cost -= ((actualcost*i.pdis)/100)\r\n",
        "    return cost\r\n",
        "  def calc_Item_Price_inGST(self,items,id):\r\n",
        "    cost=0\r\n",
        "    for i in items:\r\n",
        "      if i.id == id:\r\n",
        "        actualcost=(i.qty*i.rate*i.weight)\r\n",
        "    cost=actualcost+((actualcost*i.pwc)/100)\r\n",
        "    cost -= ((actualcost*i.pdis)/100)\r\n",
        "    cost += ((actualcost*3)/100)\r\n",
        "    return cost\r\n",
        "\r\n",
        "if __name__ == \"__main__\":\r\n",
        "  items = []\r\n",
        "  # Creating two dictionaries that will be storing the total costs of all items in id:cost manner\r\n",
        "  costExGST = {}\r\n",
        "  costInGST = {}\r\n",
        "  n = int(input())\r\n",
        "  for i in range(n):\r\n",
        "      id = int(input())\r\n",
        "      name = input()\r\n",
        "      qty = float(input())\r\n",
        "      rate = float(input())\r\n",
        "      weight = float(input())\r\n",
        "      pwc = float(input())\r\n",
        "      pdis = float(input())\r\n",
        "      g = GoldInvoice(id, name, qty, rate, weight, pwc, pdis)\r\n",
        "      items.append(g)\r\n",
        "      # Finding out the cost of a particular item and then storing it in the respective dictionary in id:cost manner.\r\n",
        "      cost1 = g.calc_Item_Price_exGST(items, id)\r\n",
        "      costExGST[id] = cost1\r\n",
        "      cost2 = g.calc_Item_Price_inGST(items, id)\r\n",
        "      costInGST[id] = cost2\r\n",
        "  item_id = int(input())\r\n",
        "  print(\"{:.3f}\".format(costExGST[item_id]))\r\n",
        "  print(\"{:.2f}\".format(costInGST[item_id]))\r\n",
        "\r\n",
        "\r\n"
      ],
      "execution_count": null,
      "outputs": [
        {
          "output_type": "stream",
          "text": [
            "1\n",
            "1\n",
            "sss\n",
            "25\n",
            "100\n",
            "10\n",
            "2\n",
            "1\n",
            "1\n",
            "2700.000\n",
            "2775.00\n"
          ],
          "name": "stdout"
        }
      ]
    },
    {
      "cell_type": "code",
      "metadata": {
        "id": "LC4JHn8Wi48h"
      },
      "source": [
        "n=30\r\n",
        "a=pow(n,(1/3))"
      ],
      "execution_count": null,
      "outputs": []
    },
    {
      "cell_type": "code",
      "metadata": {
        "colab": {
          "base_uri": "https://localhost:8080/"
        },
        "id": "nNLYqSrKj0E7",
        "outputId": "5781828f-f90c-4b9c-d284-1529de61e35e"
      },
      "source": [
        "import math\r\n",
        "if(int(a)-a==0):\r\n",
        "  print(\"Yes\")\r\n",
        "else:\r\n",
        "  print(pow(math.ceil(a),3)-n)"
      ],
      "execution_count": null,
      "outputs": [
        {
          "output_type": "stream",
          "text": [
            "34\n"
          ],
          "name": "stdout"
        }
      ]
    },
    {
      "cell_type": "code",
      "metadata": {
        "colab": {
          "base_uri": "https://localhost:8080/"
        },
        "id": "vt3Jbu6xkQQO",
        "outputId": "acf6ed69-4dc2-493b-8269-e6af5d0a334c"
      },
      "source": [
        "import math\r\n",
        "def check_cube(n):\r\n",
        "  a=pow(n,(1/3))\r\n",
        "  if(int(a)-a==0):\r\n",
        "    print(\"Yes\")\r\n",
        "  else:\r\n",
        "    print(pow(math.ceil(a),3)-n)\r\n",
        "n=int(input())\r\n",
        "l=list(map(int,input().split()))\r\n",
        "a=sum(l)\r\n",
        "check_cube(a)"
      ],
      "execution_count": null,
      "outputs": [
        {
          "output_type": "stream",
          "text": [
            "3\n",
            "9 9 9\n",
            "Yes\n"
          ],
          "name": "stdout"
        }
      ]
    },
    {
      "cell_type": "code",
      "metadata": {
        "id": "M_G-hTJOklv8",
        "colab": {
          "base_uri": "https://localhost:8080/"
        },
        "outputId": "06af1916-a702-42c4-9607-c8068fefa8d9"
      },
      "source": [
        "n=int(input())\r\n",
        "cnt=0\r\n",
        "while(n!=0):\r\n",
        "  cnt+=n\r\n",
        "  if(n%2==0):\r\n",
        "    n//=2\r\n",
        "  else:\r\n",
        "    n-=1\r\n",
        "print(cnt)\r\n"
      ],
      "execution_count": null,
      "outputs": [
        {
          "output_type": "stream",
          "text": [
            "6\n",
            "4\n"
          ],
          "name": "stdout"
        }
      ]
    },
    {
      "cell_type": "code",
      "metadata": {
        "id": "aU9do-K3IPBD",
        "colab": {
          "base_uri": "https://localhost:8080/"
        },
        "outputId": "48361363-3314-421a-f60e-0c2f3aed4ae8"
      },
      "source": [
        "#OOPR-Assgn-9\r\n",
        "#Implement Student class here\r\n",
        "class Student:\r\n",
        "  def __init__(self):\r\n",
        "    self.__student_id=None\r\n",
        "    self.__age=None\r\n",
        "    self.__marks=None\r\n",
        "    self.__course_id=None\r\n",
        "    self.__fees=None\r\n",
        "\r\n",
        "  def set_student_id(self,student_id):\r\n",
        "    self.__student_id=student_id\r\n",
        "\r\n",
        "  def set_marks(self,marks):\r\n",
        "    self.__marks=marks\r\n",
        "  \r\n",
        "  def set_age(self,age):\r\n",
        "    self.__age=age\r\n",
        "\r\n",
        "  def get_student_id(self):\r\n",
        "    return self.__student_id\r\n",
        "  \r\n",
        "  def get_marks(self):\r\n",
        "    return self.__marks\r\n",
        "  \r\n",
        "  def get_age(self):\r\n",
        "    return self.__age\r\n",
        "  \r\n",
        "  def get_course_id(self):\r\n",
        "    return self.__course_id\r\n",
        "  \r\n",
        "  def get_fees(self):\r\n",
        "    return self.__fess\r\n",
        "\r\n",
        "  def validate_marks(self):\r\n",
        "    if self.__marks>=0 and self.__marks<=100:\r\n",
        "      return True\r\n",
        "    return False\r\n",
        "  \r\n",
        "  def validate_age(self):\r\n",
        "    if self.__age>=20:\r\n",
        "      return True\r\n",
        "    return False\r\n",
        "  \r\n",
        "  def check_qualification(self):\r\n",
        "    if self.validate_age() and self.validate_marks():\r\n",
        "      if self.__marks>=65:\r\n",
        "        return True\r\n",
        "      else:\r\n",
        "        return False\r\n",
        "    return False\r\n",
        "  \r\n",
        "  def choose_course(self,course_id):\r\n",
        "    if course_id in [1001,1002]:\r\n",
        "      if course_id == 1001:\r\n",
        "        self.__course_id=1001\r\n",
        "        if self.__marks>85:\r\n",
        "          self.__fees=0.75*25575\r\n",
        "        else:\r\n",
        "          self.__fees=25575\r\n",
        "        return True\r\n",
        "      elif course_id==1002:\r\n",
        "        self.__course_id=1002\r\n",
        "        if self.__marks>85:\r\n",
        "          self.__fees=0.75*15500\r\n",
        "        else:\r\n",
        "          self.__fees=15500\r\n",
        "        return True\r\n",
        "    else:\r\n",
        "      return False\r\n",
        "\r\n",
        "maddy=Student()\r\n",
        "maddy.set_student_id(1004)\r\n",
        "maddy.set_age(21)\r\n",
        "maddy.set_marks(65)\r\n",
        "if(maddy.check_qualification()):\r\n",
        "    print(\"Student has qualified\")\r\n",
        "    if(maddy.choose_course(1002)):\r\n",
        "        print(\"Course allocated\")\r\n",
        "    else:\r\n",
        "        print(\"Invalid course id\")\r\n",
        "else:\r\n",
        "    print(\"Student has not qualified\")"
      ],
      "execution_count": null,
      "outputs": [
        {
          "output_type": "stream",
          "text": [
            "Student has qualified\n",
            "Course allocated\n"
          ],
          "name": "stdout"
        }
      ]
    },
    {
      "cell_type": "code",
      "metadata": {
        "id": "B0UQsjtZ80Ed"
      },
      "source": [
        "#OOPR-Assgn-10\r\n",
        "\r\n",
        "class CallDetail:\r\n",
        "  def __init__(self,phoneno,called_no,duration,call_type):\r\n",
        "    self.__phoneno=phoneno\r\n",
        "    self.__called_no=called_no\r\n",
        "    self.__duration=duration\r\n",
        "    self.__call_type=call_type\r\n",
        "        \r\n",
        "class Util:\r\n",
        "  def __init__(self):\r\n",
        "    self.list_of_call_objects=None\r\n",
        "\r\n",
        "  def parse_customer(self,list_of_call_string):\r\n",
        "    self.list_of_call_objects=[]\r\n",
        "    for i in list_of_call_string:\r\n",
        "      ob=i.split(\",\")\r\n",
        "      self.list_of_call_objects.append(CallDetail(ob[0],ob[1],ob[2],ob[3]))\r\n",
        "\r\n",
        "call='9990000001,9330000001,23,STD'\r\n",
        "call2='9990000001,9330000002,54,Local'\r\n",
        "call3='9990000001,9330000003,6,ISD'\r\n",
        "\r\n",
        "list_of_call_string=[call,call2,call3]\r\n",
        "Util().parse_customer(list_of_call_string)"
      ],
      "execution_count": null,
      "outputs": []
    },
    {
      "cell_type": "code",
      "metadata": {
        "id": "wNIssLqEe6DR"
      },
      "source": [
        "class Flower:\r\n",
        "  def __init__(self):\r\n",
        "    self.__flower_name=None\r\n",
        "    self.__price_per_kg=None\r\n",
        "    self.__stock_available=None \r\n",
        "\r\n",
        "  def set_flower_name(self,flower_name):\r\n",
        "    self.__flower_name=flower_name\r\n",
        "\r\n",
        "  def set_price_per_kg(self,price_per_kg):\r\n",
        "    self.__price_per_kg=price_per_kg \r\n",
        "  \r\n",
        "  def set_stock_available(self,stock_available):\r\n",
        "    self.__stock_available=stock_available\r\n",
        "  \r\n",
        "  def get_flower_name(self):\r\n",
        "    return self.__flower_name\r\n",
        "  \r\n",
        "  def get_price_per_kg(self):\r\n",
        "    return self.__price_per_kg \r\n",
        "  \r\n",
        "  def get_stock_available(self):\r\n",
        "    return self.__stock_available \r\n",
        "  \r\n",
        "  def validate_flower(self):\r\n",
        "    if self.__flower_name.lower() in ['orchid','rose','jasmine']:\r\n",
        "      return True\r\n",
        "    return False\r\n",
        "  \r\n",
        "  def validate_stock(self, required_quantity):\r\n",
        "    if self.__stock_available - required_quantity< 0:\r\n",
        "      return False\r\n",
        "    return True \r\n",
        "  \r\n",
        "  def sell_flower(self, required_quantity):\r\n",
        "    if self.validate_flower() and self.validate_stock(required_quantity):\r\n",
        "      self.__stock_available-=required_quantity\r\n",
        "    return \r\n",
        "  \r\n",
        "  def check_level(self):\r\n",
        "    d={\"orchid\":15,\"rose\":25,\"jasmine\":40}\r\n",
        "    if self.validate_flower():\r\n",
        "      if self.__stock_available < d[self.__flower_name.lower()]:\r\n",
        "        return True \r\n",
        "      else:\r\n",
        "        return False \r\n",
        "    return False\r\n"
      ],
      "execution_count": null,
      "outputs": []
    },
    {
      "cell_type": "code",
      "metadata": {
        "id": "RLCxhAQCl-UF"
      },
      "source": [
        "class Bill:\r\n",
        "  def __init__(self, bill_id, patient_name):\r\n",
        "    self.__bill_id=bill_id \r\n",
        "    self.__patient_name=patient_name \r\n",
        "    self.__bill_amount=None \r\n",
        "  \r\n",
        "  def get_bill_id(self):\r\n",
        "    return self.__bill_id \r\n",
        "  \r\n",
        "  def get_patient_name(self):\r\n",
        "    return self.__patient_name\r\n",
        "    \r\n",
        "  def get_bill_amount(self):\r\n",
        "    return self.__bill_amount \r\n",
        "  \r\n",
        "  def calculate_bill_amount(self,consultation_fees,quantity_list,price_list):\r\n",
        "    amt=consultation_fees \r\n",
        "    for i in range(len(quantity_list)):\r\n",
        "      amt+=(quantity_list[i]*price_list[i])\r\n",
        "    self.__bill_amount=amt \r\n",
        "    return \r\n",
        "b=Bill(101,\"Saikat\")\r\n",
        "b.calculate_bill_amount(500,[5,4,8],[100,250,320])\r\n",
        "print(b.get_bill_id())\r\n",
        "print(b.get_patient_name())\r\n",
        "print(b.get_bill_amount())\r\n"
      ],
      "execution_count": null,
      "outputs": []
    },
    {
      "cell_type": "code",
      "metadata": {
        "id": "e4ARMkQjou7c"
      },
      "source": [
        "class Classroom:\r\n",
        "  classroom_list=[] \r\n",
        "\r\n",
        "  @staticmethod\r\n",
        "  def search_classroom(class_room):\r\n",
        "    if class_room in list(map(lambda x:x.lower(),Classroom.classroom_list)):\r\n",
        "      return \"Found\"\r\n",
        "    return -1\r\n",
        "\r\n",
        "  \r\n"
      ],
      "execution_count": null,
      "outputs": []
    },
    {
      "cell_type": "code",
      "metadata": {
        "id": "nVsUclPJ0Mev"
      },
      "source": [
        "# Tickes fo Online Bus Booking:\r\n",
        "\r\n",
        "class Ticket:\r\n",
        "  counter=0\r\n",
        "  def __init__(self,passenger_name,source,destination):\r\n",
        "    self.__passenger_name=passenger_name\r\n",
        "    self.__source=source\r\n",
        "    self.__destination=destination \r\n",
        "    self.__ticket_id=None\r\n",
        "  \r\n",
        "  def get_source(self):\r\n",
        "    return self.__source \r\n",
        "  \r\n",
        "  def get_destination(self):\r\n",
        "    return self.__destination \r\n",
        "  \r\n",
        "  def get_passenger_name(self):\r\n",
        "    return self.__passenger_name\r\n",
        "  \r\n",
        "  def get_ticket_id(self):\r\n",
        "    return self.__ticket_id \r\n",
        "  \r\n",
        "  def validate_source_destination(self):\r\n",
        "    if self.__source.lower() == \"delhi\" and self.__destination.lower() in [\"pune\",\"kolkata\",\"mumbai\",\"chennai\"]:\r\n",
        "      return True \r\n",
        "    return False \r\n",
        "\r\n",
        "  def generate_ticket(self):\r\n",
        "    if self.validate_source_destination():\r\n",
        "      Ticket.counter+=1\r\n",
        "      no=\"\"\r\n",
        "      if Ticket.counter<10:\r\n",
        "        no=\"0\"+str(Ticket.counter)\r\n",
        "      else:\r\n",
        "        no=str(Ticket.counter) \r\n",
        "      no=self.__source[0].upper()+self.__destination[0].upper()+no\r\n",
        "      self.__ticket_id=no \r\n",
        "    else:\r\n",
        "      self.__ticket_id=None\r\n",
        "      print(\"invalid\") \r\n",
        "\r\n",
        "t=Ticket(\"Amit\",\"delhi\",\"kolkata\")\r\n",
        "t.generate_ticket() \r\n",
        "print(t.get_ticket_id())\r\n",
        "print(t.get_passenger_name())\r\n",
        "print(t.get_source())\r\n",
        "print(t.get_destination())\r\n"
      ],
      "execution_count": null,
      "outputs": []
    },
    {
      "cell_type": "code",
      "metadata": {
        "id": "26Ih8otl74aZ",
        "colab": {
          "base_uri": "https://localhost:8080/"
        },
        "outputId": "edb41470-b6a2-4aa2-abbd-e728a49a9e4b"
      },
      "source": [
        "# Customer Class\r\n",
        "class Customer:\r\n",
        "  def __init__(self,customer_id, customer_name, address):\r\n",
        "    self.__customer_id=customer_id \r\n",
        "    self.__customer_name=customer_name \r\n",
        "    self.__address=address \r\n",
        "  \r\n",
        "  def get_customer_id(self):\r\n",
        "    return self.__customer_id\r\n",
        "  \r\n",
        "  def get_customer_name(self):\r\n",
        "    return self.__customer_name \r\n",
        "\r\n",
        "  def get_address(self):\r\n",
        "    return self.__address \r\n",
        "  \r\n",
        "  def validate_customer_id(self):\r\n",
        "    if self.__customer_id[0] == \"1\" and len(self.__customer_id)==6:\r\n",
        "      return True\r\n",
        "    else:\r\n",
        "      return False\r\n",
        "\r\n",
        "# Freight Class\r\n",
        "class Freight:\r\n",
        "  counter=198\r\n",
        "  def __init__(self, recipient_customer, from_customer, weight, distance):\r\n",
        "    self.__freight_id=None\r\n",
        "    self.__recipient_customer=recipient_customer \r\n",
        "    self.__from_customer=from_customer\r\n",
        "    self.__weight=weight\r\n",
        "    self.__distance=distance \r\n",
        "    self.__freight_charge=None  \r\n",
        "  \r\n",
        "  def get_freight_charge(self):\r\n",
        "    return self.__freight_charge \r\n",
        "  \r\n",
        "  def get_freight_id(self):\r\n",
        "    return self.__freight_id \r\n",
        "\r\n",
        "  def get_recipient_customer(self):\r\n",
        "    return self.__recipient_customer \r\n",
        "\r\n",
        "  def get_from_customer(self):\r\n",
        "    return self.__from_customer \r\n",
        "  \r\n",
        "  def get_distance(self):\r\n",
        "    return self.__distance\r\n",
        "\r\n",
        "  def get_weight(self):\r\n",
        "    return self.__weight \r\n",
        "\r\n",
        "  def validate_distance(self):\r\n",
        "    if self.get_distance() >=500 and self.get_distance()<=5000:\r\n",
        "      return True\r\n",
        "    return False \r\n",
        "  \r\n",
        "  def validate_weight(self):\r\n",
        "    if self.get_weight() % 5 == 0:\r\n",
        "      return True \r\n",
        "    return False \r\n",
        "  \r\n",
        "  def forward_cargo(self):\r\n",
        "    if self.get_from_customer().validate_customer_id() and self.get_recipient_customer().validate_customer_id() and self.validate_distance() and self.validate_weight():\r\n",
        "      self.__freight_id=Freight.counter+2 \r\n",
        "      Freight.counter+=2\r\n",
        "      self.__freight_charge=(self.get_distance()*60)+(self.get_weight()*150)\r\n",
        "    else:\r\n",
        "      self.__freight_charge=0 \r\n",
        "\r\n",
        "c1=Customer(\"100000\",\"Amit\",\"addr1\")\r\n",
        "c2=Customer(\"123456\",\"sample\",\"addr2\")\r\n",
        "f=Freight(c1,c2,5,500)\r\n",
        "f.forward_cargo()\r\n",
        "print(f.get_freight_id())\r\n",
        "print(f.get_freight_charge())\r\n",
        "f=Freight(c1,c2,15,700)\r\n",
        "f.forward_cargo()\r\n",
        "print(f.get_freight_id())\r\n",
        "print(f.get_freight_charge())\r\n"
      ],
      "execution_count": null,
      "outputs": [
        {
          "output_type": "stream",
          "text": [
            "200\n",
            "30750\n",
            "202\n",
            "44250\n"
          ],
          "name": "stdout"
        }
      ]
    },
    {
      "cell_type": "code",
      "metadata": {
        "colab": {
          "base_uri": "https://localhost:8080/"
        },
        "id": "zrh0-DoZnnWw",
        "outputId": "b19d8bef-d0fe-4dbd-bd23-1742e4866ed4"
      },
      "source": [
        "class Customer:\r\n",
        "  def __init__(self, customer_name):\r\n",
        "    self.__customer_name=customer_name\r\n",
        "    self.__payment_status=None \r\n",
        "  \r\n",
        "  def get_customer_name(self):\r\n",
        "    return self.__customer_name \r\n",
        "  \r\n",
        "  def get_payment_status(self):\r\n",
        "    return self.__payment_status\r\n",
        "  \r\n",
        "  def pays_bill(self, bill):\r\n",
        "    self.__payment_status=\"Paid\"\r\n",
        "\r\n",
        "\r\n",
        "class Bill:\r\n",
        "  counter=1000\r\n",
        "  def __init__(self):\r\n",
        "    self.__bill_id=None \r\n",
        "    self.__bill_amount=None \r\n",
        "  \r\n",
        "  def get_bill_id(self):\r\n",
        "    return self.__bill_id \r\n",
        "  \r\n",
        "  def get_bill_amount(self):\r\n",
        "    return self.__bill_amount \r\n",
        "  \r\n",
        "  def generate_bill_amount(self, item_quantity, items):\r\n",
        "    amt=0\r\n",
        "    Bill.counter+=1\r\n",
        "    self.__bill_id=\"B\"+str(Bill.counter)\r\n",
        "    for i in item_quantity.keys():\r\n",
        "      for j in items:\r\n",
        "        if j.get_item_id().lower() == str(i).lower() :\r\n",
        "          amt+=(item_quantity[i]*j.get_price_per_quantity())\r\n",
        "    self.__bill_amount = amt\r\n",
        "\r\n",
        "\r\n",
        "class Item:\r\n",
        "  def __init__(self, item_id, description, price_per_quantity):\r\n",
        "    self.__item_id=str(item_id) \r\n",
        "    self.__description=description \r\n",
        "    self.__price_per_quantity=price_per_quantity\r\n",
        "  \r\n",
        "  def get_item_id(self):\r\n",
        "    return self.__item_id \r\n",
        "  \r\n",
        "  def get_description(self):\r\n",
        "    return self.__description \r\n",
        "\r\n",
        "  def get_price_per_quantity(self):\r\n",
        "    return self.__price_per_quantity \r\n",
        "  \r\n",
        "c=Customer(\"Amit\")\r\n",
        "i1=Item(101,\"kuch bhi\",250)\r\n",
        "i2=Item(102,\"kuch bhi\",450)\r\n",
        "i3=Item(103,\"kuch bhi\",650)\r\n",
        "b=Bill()\r\n",
        "b.generate_bill_amount({101:3,103:1},[i1,i2,i3])\r\n",
        "print(b.get_bill_id())\r\n",
        "print(b.get_bill_amount())\r\n",
        "c.pays_bill(b)\r\n",
        "print(c.get_payment_status())"
      ],
      "execution_count": null,
      "outputs": [
        {
          "output_type": "stream",
          "text": [
            "B1001\n",
            "1400\n",
            "Paid\n"
          ],
          "name": "stdout"
        }
      ]
    },
    {
      "cell_type": "code",
      "metadata": {
        "colab": {
          "base_uri": "https://localhost:8080/"
        },
        "id": "BJ99UAi6vZGX",
        "outputId": "0ed94b6a-95c6-4dcc-c6ce-1e6b37a583c2"
      },
      "source": [
        "class LabTestRepository:\r\n",
        "  __list_of_hospital_lab_test_ids = [\"L101\",\"L102\",\"L103\",\"L104\"]\r\n",
        "  __list_of_lab_test_charge=[2020,1750.50,5700,1320.50]\r\n",
        "\r\n",
        "  @staticmethod\r\n",
        "  def get_test_charge(lab_test_id):\r\n",
        "    if lab_test_id in LabTestRepository.__list_of_hospital_lab_test_ids:\r\n",
        "      ind=LabTestRepository.__list_of_hospital_lab_test_ids.index(lab_test_id)\r\n",
        "      return LabTestRepository.__list_of_lab_test_charge[ind]\r\n",
        "    else:\r\n",
        "      return -1 \r\n",
        "\r\n",
        "class Patient:\r\n",
        "  def __init__(self,patient_id, patient_name, list_of_lab_test_ids):\r\n",
        "    self.__patient_id=patient_id \r\n",
        "    self.__patient_name=patient_name \r\n",
        "    self.__list_of_lab_test_ids=list_of_lab_test_ids\r\n",
        "    self.__lab_test_charge=None \r\n",
        "  \r\n",
        "  def get_patient_id(self):\r\n",
        "    return self.__patient_id \r\n",
        "  \r\n",
        "  def get_patient_name(self):\r\n",
        "    return self.__patient_name \r\n",
        "  \r\n",
        "  def get_list_of_lab_test_ids(self):\r\n",
        "    return self.__list_of_lab_test_ids \r\n",
        "\r\n",
        "  def get_lab_test_charge(self):\r\n",
        "    return self.__lab_test_charge \r\n",
        "  \r\n",
        "  def calculate_lab_test_charge(self):\r\n",
        "    chg=0\r\n",
        "    for i in self.get_list_of_lab_test_ids():\r\n",
        "      a=LabTestRepository.get_test_charge(i)\r\n",
        "      if a==-1:\r\n",
        "        chg+=0\r\n",
        "      else:\r\n",
        "        chg+=a \r\n",
        "    self.__lab_test_charge=chg \r\n",
        "\r\n",
        "\r\n",
        "\r\n",
        "lab_test_list1=[\"L101\",\"L103\",\"L104\",'L105']\r\n",
        "patient1=Patient(1010,\"Sam\",lab_test_list1)\r\n",
        "patient1.calculate_lab_test_charge()\r\n",
        "print(\"Patient id:\",patient1.get_patient_id(),\"\\nPatient name:\",patient1.get_patient_name(),\"\\nPatient's test ids:\",patient1.get_list_of_lab_test_ids(), \"\\nTotal lab test charge:\",patient1.get_lab_test_charge())\r\n",
        "\r\n",
        "    "
      ],
      "execution_count": null,
      "outputs": [
        {
          "output_type": "stream",
          "text": [
            "Patient id: 1010 \n",
            "Patient name: Sam \n",
            "Patient's test ids: ['L101', 'L103', 'L104', 'L105'] \n",
            "Total lab test charge: 9040.5\n"
          ],
          "name": "stdout"
        }
      ]
    },
    {
      "cell_type": "code",
      "metadata": {
        "id": "6csBpf531VHh"
      },
      "source": [
        "#OOPR-Assgn-22\r\n",
        "class Multiplex:\r\n",
        "    __list_movie_name=[\"movie1\",\"movie2\"]\r\n",
        "    __list_total_tickets=[100,60]\r\n",
        "    __list_last_seat_number=[None,None]\r\n",
        "    __list_ticket_price=[150,200]\r\n",
        "    def __init__(self):\r\n",
        "        self.__seat_numbers=None\r\n",
        "        self.__total_price=None\r\n",
        "    def calculate_ticket_price(self,movie_index,number_of_tickets):\r\n",
        "        self.__total_price= Multiplex.__list_ticket_price[movie_index]*number_of_tickets\r\n",
        "    def check_seat_availability(self,movie_index,number_of_tickets):\r\n",
        "        if(Multiplex.__list_total_tickets[movie_index]<number_of_tickets):\r\n",
        "            return False\r\n",
        "        else:\r\n",
        "            return True\r\n",
        "    def get_total_price(self):\r\n",
        "        return self.__total_price\r\n",
        "    def get_seat_numbers(self):\r\n",
        "        return self.__seat_numbers\r\n",
        "    def book_ticket(self, movie_name, number_of_tickets):\r\n",
        "        '''Write the logic to book the given number of tickets for the specified movie.'''\r\n",
        "    def  generate_seat_number(self,movie_index, number_of_tickets):\r\n",
        "        '''Write the logic to generate and return the list of seat numbers'''\r\n",
        "booking1=Multiplex()\r\n",
        "status=booking1.book_ticket(\"movie1\",10)\r\n",
        "if(status==0):\r\n",
        "    print(\"invalid movie name\")\r\n",
        "elif(status==-1):\r\n",
        "    print(\"Tickets not available for movie-1\")\r\n",
        "else:\r\n",
        "    print(\"Booking successful\")\r\n",
        "    print(\"Seat Numbers :\", booking1.get_seat_numbers())\r\n",
        "    print(\"Total amount to be paid:\", booking1.get_total_price())\r\n",
        "print(\"-----------------------------------------------------------------------------\")\r\n",
        "booking2=Multiplex()\r\n",
        "status=booking2.book_ticket(\"movie2\",6)\r\n",
        "if(status==0):\r\n",
        "    print(\"invalid movie name\")\r\n",
        "elif(status==-1):\r\n",
        "    print(\"Tickets not available for movie-2\")\r\n",
        "else:\r\n",
        "    print(\"Booking successful\")\r\n",
        "    print(\"Seat Numbers :\", booking2.get_seat_numbers())\r\n",
        "    print(\"Total amount to be paid:\", booking2.get_total_price())"
      ],
      "execution_count": null,
      "outputs": []
    },
    {
      "cell_type": "code",
      "metadata": {
        "colab": {
          "base_uri": "https://localhost:8080/"
        },
        "id": "kC72NkHmvKLs",
        "outputId": "18b85609-cdb5-4aaa-b1e8-bd9f66c56a04"
      },
      "source": [
        "class Apparel:\r\n",
        "  counter=100\r\n",
        "  def __init__(self, price, item_type):\r\n",
        "    self.__item_id=item_type[0].upper()+str(Apparel.counter+1)\r\n",
        "    self.__price=price\r\n",
        "    self.__item_type=item_type.title()\r\n",
        "    Apparel.counter+=1\r\n",
        "  \r\n",
        "  def set_price(self, price):\r\n",
        "    self.__price=price \r\n",
        "  \r\n",
        "  def get_item_id(self):\r\n",
        "    return self.__item_id \r\n",
        "  \r\n",
        "  def get_price(self):\r\n",
        "    return self.__price \r\n",
        "\r\n",
        "  def get_item_type(self):\r\n",
        "    return self.__item_type \r\n",
        "  \r\n",
        "  def calculate_price(self):\r\n",
        "    return self.set_price(1.05*self.get_price())\r\n",
        "\r\n",
        "\r\n",
        "class Cotton(Apparel):\r\n",
        "  def __init__(self,price,discount):\r\n",
        "    super().__init__(price,\"Cotton\")\r\n",
        "    self.__discount=discount \r\n",
        "  \r\n",
        "  def get_discount(self):\r\n",
        "    return self.__discount \r\n",
        "  \r\n",
        "  def calculate_price(self):\r\n",
        "    super().calculate_price()\r\n",
        "    p=super().get_price()\r\n",
        "    p=p*((100-self.get_discount())/100)\r\n",
        "    p=1.05*p\r\n",
        "    super().set_price(p)\r\n",
        "\r\n",
        "\r\n",
        "class Silk(Apparel):\r\n",
        "  def __init__(self,price):\r\n",
        "    self.__points=None\r\n",
        "    super().__init__(price,\"Silk\")\r\n",
        "  \r\n",
        "  def get_points(self):\r\n",
        "    return self.__points\r\n",
        "  \r\n",
        "  def calculate_price(self):\r\n",
        "    super().calculate_price()\r\n",
        "    p=super().get_price()\r\n",
        "    if p>10000:\r\n",
        "      self.__points=10\r\n",
        "    else:\r\n",
        "      self.__points=3\r\n",
        "    p=1.10*p\r\n",
        "    super().set_price(p)\r\n",
        "\r\n",
        "a = Silk(1320)\r\n",
        "a.calculate_price()\r\n",
        "print(a.get_points())\r\n",
        "print(a.get_price())\r\n",
        "print(a.get_item_id())\r\n",
        "a =Cotton(1320,5)\r\n",
        "a.calculate_price()\r\n",
        "print(a.get_price())\r\n",
        "print(a.get_item_id())"
      ],
      "execution_count": null,
      "outputs": [
        {
          "output_type": "stream",
          "text": [
            "3\n",
            "1524.6000000000001\n",
            "S101\n",
            "1382.535\n",
            "C102\n"
          ],
          "name": "stdout"
        }
      ]
    },
    {
      "cell_type": "code",
      "metadata": {
        "colab": {
          "base_uri": "https://localhost:8080/"
        },
        "id": "7tA87FFRznik",
        "outputId": "48954e66-b21e-4a2d-b44f-f3ce9a4c10ec"
      },
      "source": [
        "class FruitInfo:\r\n",
        "  __fruit_name_list=[\"Apple\",\"Guava\",\"Orange\",\"Grape\",\"Sweet Lime\"]\r\n",
        "  __fruit_price_list=[100, 800, 70, 110, 600]\r\n",
        "\r\n",
        "  @staticmethod\r\n",
        "  def get_fruit_price(fruit_name):\r\n",
        "    if fruit_name.title() in FruitInfo.__fruit_name_list:\r\n",
        "      return FruitInfo.__fruit_price_list[FruitInfo.__fruit_name_list.index(fruit_name.title())]\r\n",
        "    else:\r\n",
        "      return -1\r\n",
        "\r\n",
        "  @staticmethod\r\n",
        "  def get_fruit_name_list():\r\n",
        "    return FruitInfo.__fruit_name_list\r\n",
        "  \r\n",
        "  @staticmethod\r\n",
        "  def get_fruit_price_list():\r\n",
        "    return FruitInfo.__fruit_price_list\r\n",
        "\r\n",
        "class Purchase:\r\n",
        "  __counter=101\r\n",
        "  def __init__(self, customer, fruit_name, quantity):\r\n",
        "    self.__customer=customer\r\n",
        "    self.__fruit_name=fruit_name\r\n",
        "    self.__quantity=quantity \r\n",
        "    self.__purchase_id=None\r\n",
        "  \r\n",
        "  def get_purchase_id(self):\r\n",
        "    return self.__purchase_id \r\n",
        "  \r\n",
        "  def get_customer(self):\r\n",
        "    return self.__customer\r\n",
        "\r\n",
        "  def get_quantity(self):\r\n",
        "    return self.__quantity\r\n",
        "  \r\n",
        "  def calculate_price(self):\r\n",
        "    price=FruitInfo.get_fruit_price(self.__fruit_name)\r\n",
        "    if price <0:\r\n",
        "      return -1\r\n",
        "    if price==max(FruitInfo.get_fruit_price_list()) and self.get_quantity()>1:\r\n",
        "      price*=0.98\r\n",
        "    if price==min(FruitInfo.get_fruit_price_list()) and self.get_quantity()>=5:\r\n",
        "      price*=0.95\r\n",
        "    if self.get_customer().get_cust_type()==\"wholesale\":\r\n",
        "      price*=0.90\r\n",
        "    self.__purchase_id=\"P\"+str(Purchase.__counter)\r\n",
        "    Purchase.__counter+=1\r\n",
        "    return price*self.get_quantity()\r\n",
        "\r\n",
        "\r\n",
        "class Customer:\r\n",
        "  def __init__(self,customer_name, cust_type):\r\n",
        "    self.__customer_name=customer_name.title()\r\n",
        "    self.__cust_type=cust_type.lower()\r\n",
        "  \r\n",
        "  def get_customer_name(self):\r\n",
        "    return self.__customer_name\r\n",
        "\r\n",
        "  def get_cust_type(self):\r\n",
        "    return self.__cust_type\r\n",
        "\r\n",
        "\r\n",
        "c=Customer(\"Tom\", \"wholesale\")\r\n",
        "p=Purchase(c,\"Orange\", 5)\r\n",
        "print(p.calculate_price())"
      ],
      "execution_count": null,
      "outputs": [
        {
          "output_type": "stream",
          "text": [
            "70\n",
            "299.25\n"
          ],
          "name": "stdout"
        }
      ]
    },
    {
      "cell_type": "code",
      "metadata": {
        "colab": {
          "base_uri": "https://localhost:8080/"
        },
        "id": "CH8iPIrkEWKy",
        "outputId": "68c338e6-107b-403b-8edd-14850af92585"
      },
      "source": [
        "\r\n",
        "class FruitInfo:\r\n",
        "    __fruit_name_list=['Apple', 'Guava', 'Orange', 'Grape', 'Sweet Lime']\r\n",
        "    __fruit_price_list=[100, 800, 70, 110, 600]\r\n",
        "    @staticmethod\r\n",
        "    def get_fruit_price(fruit_name):\r\n",
        "        if fruit_name.title() in FruitInfo.__fruit_name_list:\r\n",
        "            return FruitInfo.__fruit_price_list[FruitInfo.__fruit_name_list.index(fruit_name.title())]\r\n",
        "        else:\r\n",
        "            return -1\r\n",
        "    @staticmethod\r\n",
        "    def get_fruit_name_list():\r\n",
        "        return FruitInfo.__fruit_name_list\r\n",
        "    @staticmethod\r\n",
        "    def get_fruit_price_list():\r\n",
        "        return FruitInfo.__fruit_price_list\r\n",
        "class Purchase:\r\n",
        "    __counter=101\r\n",
        "    def __init__(self, customer,fruit_name, quantity):\r\n",
        "        self.__purchase_id=None\r\n",
        "        self.__customer=customer\r\n",
        "        self.__fruit_name=fruit_name.title()\r\n",
        "        self.__quantity=quantity\r\n",
        "    def get_purchase_id(self):\r\n",
        "        return self.__purchase_id\r\n",
        "    def get_customer(self):\r\n",
        "        return self.__customer\r\n",
        "    def get_quantity(self):\r\n",
        "        return self.__quantity\r\n",
        "    def calculate_price(self):\r\n",
        "        each_fruit_price=FruitInfo.get_fruit_price(self.__fruit_name)\r\n",
        "        if each_fruit_price>0:\r\n",
        "            self.__purchase_id = 'P' + str(Purchase.__counter)\r\n",
        "            Purchase.__counter += 1\r\n",
        "            price=each_fruit_price*self.__quantity\r\n",
        "            if each_fruit_price==max(FruitInfo.get_fruit_price_list()) and self.__quantity>1:\r\n",
        "                price*=0.98\r\n",
        "            if each_fruit_price==min(FruitInfo.get_fruit_price_list()) and self.__quantity>=5:\r\n",
        "                price*=0.95\r\n",
        "            #even if you insert 'Wholesale' in customer type, and check here for 'Wholesale'(i.e if Customer.get_cust_type(self.__customer) is 'Wholesale' and you are checking against 'Wholesale'), still the program will not pass all the test cases. It has to be 'wholesale' and not 'Wholesale'. So it is very very important to read the question carefully and only mention those words/letters as instructed in the questoion.\r\n",
        "            if Customer.get_cust_type(self.__customer)=='wholesale':\r\n",
        "                price*=0.90\r\n",
        "            return (price)\r\n",
        "        else:\r\n",
        "            return -1\r\n",
        "                \r\n",
        "            \r\n",
        "class Customer():\r\n",
        "    def __init__(self, customer_name, cust_type):\r\n",
        "        self.__customer_name=customer_name.title()\r\n",
        "        #self.__cust_type=cust_type.title() will give wrong answer because in the question it is clearly mentioned that if the customer_type is 'wholesale' not 'Wholesale'. Also check at Line 40 \r\n",
        "        self.__cust_type=cust_type.lower()\r\n",
        "    def get_customer_name(self):\r\n",
        "        return self.__customer_name\r\n",
        "    def get_cust_type(self):\r\n",
        "        return self.__cust_type\r\n",
        "        \r\n",
        "c=Customer(\"Tom\", \"wholesale\")\r\n",
        "p=Purchase(c,\"Orange\", 5)\r\n",
        "print(p.calculate_price())"
      ],
      "execution_count": null,
      "outputs": [
        {
          "output_type": "stream",
          "text": [
            "299.25\n"
          ],
          "name": "stdout"
        }
      ]
    },
    {
      "cell_type": "code",
      "metadata": {
        "id": "QJw9mfESGpAy",
        "colab": {
          "base_uri": "https://localhost:8080/"
        },
        "outputId": "06ebc77b-5788-446f-f3b7-4610c9a7b0c9"
      },
      "source": [
        "class Pan:\r\n",
        "  def __init__(self, id , material, brand, price, capacity):\r\n",
        "    self.id=id\r\n",
        "    self.material=material\r\n",
        "    self.brand=brand\r\n",
        "    self.price=price\r\n",
        "    self.capacity=capacity\r\n",
        "\r\n",
        "  @staticmethod\r\n",
        "  def costliest_pan(pan,material):\r\n",
        "    max=0\r\n",
        "    ob=None\r\n",
        "    for i in pan:\r\n",
        "      if i.material == material:\r\n",
        "        if max<i.price:\r\n",
        "          max=i.price\r\n",
        "          ob=i\r\n",
        "    return ob \r\n",
        "  @staticmethod\r\n",
        "  def discounted_price(pan,brand):\r\n",
        "    for i in pan:\r\n",
        "      if i.brand == brand:\r\n",
        "        if i.capacity == 500:\r\n",
        "          i.price=0.8*i.price\r\n",
        "        elif i.capacity == 1000:\r\n",
        "          i.price=0.74*i.price\r\n",
        "    return \r\n",
        "if __name__ == \"__main__\":\r\n",
        "  pan=[]\r\n",
        "  for i in range(3):\r\n",
        "    id,material,brand,price,capacity=map(str,input().split()) \r\n",
        "    price=int(price)\r\n",
        "    capacity=int(capacity)\r\n",
        "    pan.append(Pan(id,material, brand, price, capacity))\r\n",
        "  materaial, brand=map(str,input().split())\r\n",
        "  print(Pan.costliest_pan(pan,material).price)\r\n",
        "\r\n",
        "\r\n"
      ],
      "execution_count": null,
      "outputs": [
        {
          "output_type": "stream",
          "text": [
            "1 m1 b1 120 500\n",
            "2 m1 b1 350 1000\n",
            "3 m1 b2 100 500\n",
            "m1 b1\n",
            "350\n"
          ],
          "name": "stdout"
        }
      ]
    },
    {
      "cell_type": "code",
      "metadata": {
        "colab": {
          "base_uri": "https://localhost:8080/",
          "height": 163
        },
        "id": "QNDkGCTqEzSn",
        "outputId": "1308068e-b8a2-4473-f7ef-3152f7d96d80"
      },
      "source": [
        "2+\"4\""
      ],
      "execution_count": null,
      "outputs": [
        {
          "output_type": "error",
          "ename": "TypeError",
          "evalue": "ignored",
          "traceback": [
            "\u001b[0;31m---------------------------------------------------------------------------\u001b[0m",
            "\u001b[0;31mTypeError\u001b[0m                                 Traceback (most recent call last)",
            "\u001b[0;32m<ipython-input-5-6bb6a8d3f586>\u001b[0m in \u001b[0;36m<module>\u001b[0;34m()\u001b[0m\n\u001b[0;32m----> 1\u001b[0;31m \u001b[0;36m2\u001b[0m\u001b[0;34m+\u001b[0m\u001b[0;34m\"4\"\u001b[0m\u001b[0;34m\u001b[0m\u001b[0;34m\u001b[0m\u001b[0m\n\u001b[0m",
            "\u001b[0;31mTypeError\u001b[0m: unsupported operand type(s) for +: 'int' and 'str'"
          ]
        }
      ]
    },
    {
      "cell_type": "code",
      "metadata": {
        "id": "HQhLv7neHBhT"
      },
      "source": [
        "x=range(6)"
      ],
      "execution_count": null,
      "outputs": []
    },
    {
      "cell_type": "code",
      "metadata": {
        "id": "zWlnk9sNJHdv",
        "colab": {
          "base_uri": "https://localhost:8080/"
        },
        "outputId": "4b8eb8a2-c524-40db-e8a0-7e9097612919"
      },
      "source": [
        "x[5]"
      ],
      "execution_count": null,
      "outputs": [
        {
          "output_type": "execute_result",
          "data": {
            "text/plain": [
              "5"
            ]
          },
          "metadata": {
            "tags": []
          },
          "execution_count": 8
        }
      ]
    },
    {
      "cell_type": "code",
      "metadata": {
        "id": "Ffh8IINwJICe"
      },
      "source": [
        "class Professor:\r\n",
        "  def __init__(self,profId,profName,subjectsDict):\r\n",
        "    self.profId=profId\r\n",
        "    self.profName=profName\r\n",
        "    self.subjectsDict=subjectsDict \r\n",
        "\r\n",
        "class University:\r\n",
        "  def getTotalExperience(self,prof_list,id):\r\n",
        "    val=0\r\n",
        "    for prof in prof_list:\r\n",
        "      if prof.profId == id:\r\n",
        "        for i in prof.subjectsDict.values():\r\n",
        "          val+=i\r\n",
        "    return val\r\n",
        "\r\n",
        "  def selectSeniorProfessorBySubject(self,prof_list,sub_name):\r\n",
        "    ans=None\r\n",
        "    max=0\r\n",
        "    for prof in prof_list:\r\n",
        "      if sub_name.lower() in prof.subjectsDict.keys():\r\n",
        "        if(max<prof.subjectsDict[sub_name.lower()]):\r\n",
        "          max=prof.subjectsDict[sub_name.lower()]\r\n",
        "          ans=prof \r\n",
        "    return ans \r\n",
        "\r\n",
        "if __name__ == \"__main__\":\r\n",
        "  \r\n"
      ],
      "execution_count": null,
      "outputs": []
    }
  ]
}